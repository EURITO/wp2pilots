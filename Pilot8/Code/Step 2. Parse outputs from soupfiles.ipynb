{
 "cells": [
  {
   "cell_type": "code",
   "execution_count": 2,
   "metadata": {},
   "outputs": [],
   "source": [
    "import csv\n",
    "import community\n",
    "import pandas as pd\n",
    "import networkx as nx\n",
    "import math\n",
    "import matplotlib.pyplot as plt\n",
    "import pickle\n",
    "import requests\n",
    "import sys\n",
    "from bs4 import BeautifulSoup\n",
    "import re\n",
    "import os"
   ]
  },
  {
   "cell_type": "markdown",
   "metadata": {},
   "source": [
    "## Parse Projects from saved soupfiles"
   ]
  },
  {
   "cell_type": "code",
   "execution_count": 8,
   "metadata": {},
   "outputs": [],
   "source": [
    "#takes a filename with soup inside, retrives grantIDs and respective date\n",
    "def getGrantListFromFile(filename):\n",
    "    grantlist = list()\n",
    "    with open(filename) as file:  \n",
    "        tempstr = file.read()\n",
    "        soup = BeautifulSoup(tempstr, 'lxml')\n",
    "        grantIDtags = soup.find_all('code')\n",
    "        for grantID in grantIDtags:\n",
    "            countries = list()\n",
    "            projecttag = grantID.parent\n",
    "            relstag = projecttag.find('rels')\n",
    "            for rel in relstag.children:\n",
    "                country = rel.find('country')\n",
    "                if (country <> -1) and (country is not None):\n",
    "                    if country['classname'] not in countries:\n",
    "                        countries.append(country['classname'])\n",
    "            grantIDdate = 'not available'\n",
    "            for sibling in grantID.previous_siblings:\n",
    "                if sibling.name == 'startdate':\n",
    "                    grantIDdate = sibling.text #need to parse the date\n",
    "            for sibling in grantID.next_siblings:\n",
    "                if sibling.name == 'startdate':\n",
    "                    grantIDdate = sibling.text #need to parse the date\n",
    "            grantlist.append([grantID.text,grantIDdate, countries]) \n",
    "    return grantlist;"
   ]
  },
  {
   "cell_type": "markdown",
   "metadata": {},
   "source": [
    "## Parse Publications from saved soupfiles"
   ]
  },
  {
   "cell_type": "code",
   "execution_count": 13,
   "metadata": {},
   "outputs": [],
   "source": [
    "#takes a filename with soup inside, returns a list of publications ids, with date, grantID, set type to \"publications\"\n",
    "def getPubListFromFile(filename):\n",
    "    publist = list()\n",
    "    i = 0\n",
    "    j = 0\n",
    "    with open(filename) as file:  \n",
    "        tempstr = file.read()\n",
    "        soup = BeautifulSoup(tempstr, 'lxml')\n",
    "        records = soup.find_all(re.compile(\"^oai:record\"))\n",
    "        print 'found ', len(records), ' records'\n",
    "        for record in records:\n",
    "            templist = list()\n",
    "            acceptdate = record.find('dateofacceptance')\n",
    "            if acceptdate.text == '':\n",
    "                i = i + 1 #count records without a date\n",
    "                continue #we do not add this record to the publication list\n",
    "            instancetype = record.find('instancetype')\n",
    "            pubtype=instancetype['classname']\n",
    "            #print pubtype\n",
    "            title = record.find('title')\n",
    "            code = record.find('code')\n",
    "            pid = record.find('pid')\n",
    "            if pid.text == '':\n",
    "                #print '--------------------------'\n",
    "                j = j + 1 \n",
    "                continue #we do not add this record to the publication list\n",
    "            publist.append([pid.text, acceptdate.text, title.text, code.text, pubtype])\n",
    "        print i, \" records not included due to absence of date\"\n",
    "        print j, \" records not included due to absence of doi\"\n",
    "    return publist;"
   ]
  },
  {
   "cell_type": "code",
   "execution_count": 20,
   "metadata": {},
   "outputs": [],
   "source": [
    "#takes a filename with soup inside, returns a list of publications ids, with date, grantID, set type to \"publications\"\n",
    "def getSoftListFromFile(filename):\n",
    "    softlist = list()\n",
    "    softdict = dict()\n",
    "    i = 0\n",
    "    j = 0\n",
    "    with open(filename) as file:  \n",
    "        tempstr = file.read()\n",
    "        soup = BeautifulSoup(tempstr, 'lxml')\n",
    "        records = soup.find_all(re.compile(\"^oaf:result\"))\n",
    "        print 'found ', len(records), ' results'\n",
    "        for record in records:\n",
    "            storagedate = record.find('storagedate')\n",
    "            pid = record.find('pid')\n",
    "            if (pid[\"classname\"] == \"doi\") and (storagedate.text <> \"\"):\n",
    "                code = record.find('code')\n",
    "                doi = pid.text\n",
    "                title = record.find('title')\n",
    "                softlist.append([doi, storagedate.text, title.text, code.text, \"software\"])\n",
    "                #print softlist[len(softlist)-1]\n",
    "        print len(softlist)\n",
    "        return softlist;"
   ]
  },
  {
   "cell_type": "markdown",
   "metadata": {},
   "source": [
    "## Construct overall output lists for each output type"
   ]
  },
  {
   "cell_type": "code",
   "execution_count": 16,
   "metadata": {},
   "outputs": [],
   "source": [
    "#construct a total output list for the specified type\n",
    "def getTotalOutputList(outputType):\n",
    "    directory = './' + outputType + 'soups/'\n",
    "    totaloutputlist = list()\n",
    "    for filename in os.listdir(directory):\n",
    "        #print filename\n",
    "        if outputType == 'projects':\n",
    "            templist = getGrantListFromFile(directory + filename)\n",
    "        if outputType == 'publications':\n",
    "            templist = getPubListFromFile(directory + filename)\n",
    "        if outputType == 'software':\n",
    "            templist = getSoftListFromFile(directory + filename)\n",
    "        totaloutputlist = totaloutputlist + templist\n",
    "        print len(totaloutputlist)\n",
    "    return totaloutputlist;"
   ]
  },
  {
   "cell_type": "code",
   "execution_count": null,
   "metadata": {},
   "outputs": [],
   "source": [
    "#possible values: projects, publications, software\n",
    "totalgrantlist = getTotalOutputList('projects')"
   ]
  },
  {
   "cell_type": "code",
   "execution_count": null,
   "metadata": {
    "scrolled": true
   },
   "outputs": [],
   "source": [
    "#possible values: projects, publications, software\n",
    "totalsoftlist = getTotalOutputList('software')"
   ]
  },
  {
   "cell_type": "code",
   "execution_count": null,
   "metadata": {},
   "outputs": [],
   "source": [
    "#possible values: projects, publications, software\n",
    "totalpublist = getTotalOutputList('publications')"
   ]
  },
  {
   "cell_type": "code",
   "execution_count": 28,
   "metadata": {},
   "outputs": [],
   "source": [
    "#extract the dictionary of countries from the grantlist, where keys are grants and values are lists of countries for each grant\n",
    "grantcountries = dict()\n",
    "for grant in totalgrantlist:\n",
    "    grantcountries[grant[0]] = grant[2]"
   ]
  },
  {
   "cell_type": "markdown",
   "metadata": {},
   "source": [
    "## Export lists to pickle"
   ]
  },
  {
   "cell_type": "code",
   "execution_count": null,
   "metadata": {},
   "outputs": [],
   "source": [
    "#uncomment only when it is necessary to update the lists, otherwise will rewrite the currently saved pickles\n",
    "'''pickle_out = open(\"grantcountries.pickle\",\"wb\")\n",
    "pickle.dump(grantcountries, pickle_out)\n",
    "pickle_out.close()\n",
    "\n",
    "pickle_out = open(\"totalgrantlist.pickle\",\"wb\")\n",
    "pickle.dump(totalgrantlist, pickle_out)\n",
    "pickle_out.close()\n",
    "\n",
    "pickle_out = open(\"totalsoftlist.pickle\",\"wb\")\n",
    "pickle.dump(totalsoftlist, pickle_out)\n",
    "pickle_out.close()\n",
    "\n",
    "pickle_out = open(\"totalpublist.pickle\",\"wb\")\n",
    "pickle.dump(totalpublist, pickle_out)\n",
    "pickle_out.close()'''"
   ]
  },
  {
   "cell_type": "code",
   "execution_count": null,
   "metadata": {},
   "outputs": [],
   "source": []
  }
 ],
 "metadata": {
  "kernelspec": {
   "display_name": "Python 2",
   "language": "python",
   "name": "python2"
  },
  "language_info": {
   "codemirror_mode": {
    "name": "ipython",
    "version": 2
   },
   "file_extension": ".py",
   "mimetype": "text/x-python",
   "name": "python",
   "nbconvert_exporter": "python",
   "pygments_lexer": "ipython2",
   "version": "2.7.14"
  }
 },
 "nbformat": 4,
 "nbformat_minor": 2
}
