{
 "cells": [
  {
   "cell_type": "code",
   "execution_count": null,
   "metadata": {},
   "outputs": [],
   "source": [
    "'''data notes\n",
    "-when creating nodelist, 421 grants with incorrect year were removed\n",
    "'''"
   ]
  },
  {
   "cell_type": "code",
   "execution_count": null,
   "metadata": {},
   "outputs": [],
   "source": [
    "import csv\n",
    "import community\n",
    "import pandas as pd\n",
    "import networkx as nx\n",
    "import math\n",
    "import matplotlib.pyplot as plt\n",
    "import pickle\n",
    "import requests\n",
    "import sys\n",
    "import codecs\n",
    "from bs4 import BeautifulSoup\n",
    "import re\n",
    "import os\n",
    "from datetime import datetime"
   ]
  },
  {
   "cell_type": "markdown",
   "metadata": {},
   "source": [
    "## Load grantlist and publist"
   ]
  },
  {
   "cell_type": "code",
   "execution_count": null,
   "metadata": {},
   "outputs": [],
   "source": [
    "pickle_in = open(\"grantcountries.pickle\",\"rb\")\n",
    "grantcountries = pickle.load(pickle_in)\n",
    "pickle_in = open(\"totalsoftlist.pickle\",\"rb\")\n",
    "totalsoftlist = pickle.load(pickle_in)\n",
    "pickle_in = open(\"totalgrantlist.pickle\",\"rb\")\n",
    "totalgrantlist = pickle.load(pickle_in)\n",
    "pickle_in = open(\"totalpublist.pickle\",\"rb\")\n",
    "totalpublist = pickle.load(pickle_in)"
   ]
  },
  {
   "cell_type": "code",
   "execution_count": 1,
   "metadata": {},
   "outputs": [],
   "source": [
    "#takes date and returns only a year, deals with non-correctly specified dates\n",
    "def convertDatetoYear(inputdate):\n",
    "    #datetime_object = datetime.strptime('Jun 1 2005  1:33PM', '%b %d %Y %I:%M%p')\n",
    "    if inputdate:\n",
    "        try:\n",
    "            datetime_object = datetime.strptime(inputdate, '%Y-%m-%d')\n",
    "            return datetime_object.year\n",
    "        except ValueError:\n",
    "            if \"null\" not in inputdate:\n",
    "                datetime_object = datetime.strptime(inputdate, '%Y-%d-%m')\n",
    "                return datetime_object.year\n",
    "            else:\n",
    "                return ''\n",
    "    else:\n",
    "        return ''"
   ]
  },
  {
   "cell_type": "code",
   "execution_count": null,
   "metadata": {},
   "outputs": [],
   "source": [
    "#make nodelist from grants, publications, software entries\n",
    "def getNodelist(totalgrantlist, totalpublist, totalsoftlist, grantcountries):\n",
    "    nodelist = list()\n",
    "    cleangrantlist = list()\n",
    "    #TODO bring to this format 'type, subtype, id,title,grant,year,countries'\n",
    "    for grant in totalgrantlist:\n",
    "        grantyear = convertDatetoYear(grant[1])\n",
    "        if grant[1]: #if not empty\n",
    "            nodelist.append([\"grant\",\"grant\",grant[0],grant[0],grant[0],grantyear, grant[2]])\n",
    "            cleangrantlist.append(grant[0])\n",
    "    nodelist1 = len(nodelist)\n",
    "    for soft in totalsoftlist:\n",
    "        nodelist.append([\"software\", \"software\", soft[0],soft[2],soft[3],soft[1], grantcountries[soft[3]]])\n",
    "    nodelist2 = len(nodelist) - nodelist1\n",
    "    for pub in totalpublist:\n",
    "        idstr = pub[0].replace(\"\\t\", \"\")\n",
    "        idstr = idstr.replace(\"\\n\", \"\")\n",
    "        idstr = idstr.strip()\n",
    "        nodelist.append([\"publication\", pub[4], idstr, pub[2],pub[3], convertDatetoYear(pub[1]), grantcountries[pub[3]]])\n",
    "    '''print nodelist[len(nodelist)-1]\n",
    "    print len(totalgrantlist), len(totalsoftlist), len(totalpublist)\n",
    "    print nodelist1, nodelist2, len(nodelist) - nodelist1 - nodelist2'''\n",
    "    return nodelist, cleangrantlist;"
   ]
  },
  {
   "cell_type": "code",
   "execution_count": null,
   "metadata": {},
   "outputs": [],
   "source": [
    "nodelist, cleangrantlist = getNodelist(totalgrantlist, totalpublist, totalsoftlist, grantcountries)\n",
    "'''print len(nodelist)\n",
    "print len(cleangrantlist)'''"
   ]
  },
  {
   "cell_type": "markdown",
   "metadata": {},
   "source": [
    "## Create edgelist from the nodelist"
   ]
  },
  {
   "cell_type": "code",
   "execution_count": null,
   "metadata": {},
   "outputs": [],
   "source": [
    "def getEdgelistFromNodelist(nodelist, cleangrantlist):\n",
    "    edgelist = list()\n",
    "    #all the connections are made only through grants\n",
    "    print len(nodelist)\n",
    "    for index, node in enumerate(nodelist):\n",
    "        if node[0] <> 'grant':\n",
    "            if node[4] in cleangrantlist:\n",
    "                edgelist.append([node[4], node[2]]) #add edge, where source is grantid and target is recordid\n",
    "    return edgelist;"
   ]
  },
  {
   "cell_type": "code",
   "execution_count": null,
   "metadata": {},
   "outputs": [],
   "source": [
    "edgelist = getEdgelistFromNodelist(nodelist, cleangrantlist)"
   ]
  },
  {
   "cell_type": "markdown",
   "metadata": {},
   "source": [
    "## Save nodelist and edgelist"
   ]
  },
  {
   "cell_type": "code",
   "execution_count": null,
   "metadata": {},
   "outputs": [],
   "source": [
    "'''pickle_out = open(\"edgelist.pickle\",\"wb\")\n",
    "pickle.dump(edgelist, pickle_out)\n",
    "pickle_out.close()\n",
    "\n",
    "pickle_out = open(\"nodelist.pickle\",\"wb\")\n",
    "pickle.dump(nodelist, pickle_out)\n",
    "pickle_out.close()'''"
   ]
  },
  {
   "cell_type": "markdown",
   "metadata": {},
   "source": [
    "## Create and save global list of countries from the nodelist"
   ]
  },
  {
   "cell_type": "code",
   "execution_count": null,
   "metadata": {},
   "outputs": [],
   "source": [
    "def getCountryList(nodelist):\n",
    "    countrieslist = list()\n",
    "    for node in nodelist:\n",
    "        if node[0] == 'grant':\n",
    "            for country in node[6]:\n",
    "                if country not in countrieslist:\n",
    "                    countrieslist.append(country)\n",
    "    return countrieslist;"
   ]
  },
  {
   "cell_type": "code",
   "execution_count": null,
   "metadata": {},
   "outputs": [],
   "source": [
    "countrylist = getCountryList(nodelist)"
   ]
  },
  {
   "cell_type": "code",
   "execution_count": null,
   "metadata": {},
   "outputs": [],
   "source": [
    "'''pickle_out = open(\"countrylist.pickle\",\"wb\")\n",
    "pickle.dump(countrylist, pickle_out)\n",
    "pickle_out.close()'''"
   ]
  }
 ],
 "metadata": {
  "kernelspec": {
   "display_name": "Python 2",
   "language": "python",
   "name": "python2"
  },
  "language_info": {
   "codemirror_mode": {
    "name": "ipython",
    "version": 2
   },
   "file_extension": ".py",
   "mimetype": "text/x-python",
   "name": "python",
   "nbconvert_exporter": "python",
   "pygments_lexer": "ipython2",
   "version": "2.7.14"
  }
 },
 "nbformat": 4,
 "nbformat_minor": 2
}
